{
 "cells": [
  {
   "cell_type": "markdown",
   "metadata": {},
   "source": [
    "# AlphaCare Insurance Solutions (ACIS) \n"
   ]
  },
  {
   "cell_type": "markdown",
   "metadata": {},
   "source": [
    "AlphaCare Insurance Solutions (ACIS) is committed to developing cutting-edge risk and predictive analytics in the area of car insurance\n",
    "planning and marketing in South Africa.This is a part of the final report on hypothesis testing,"
   ]
  },
  {
   "cell_type": "markdown",
   "metadata": {},
   "source": [
    "#### Outline\n",
    "1. Null hypothesis to be tested\n",
    "2. Identifying KPIs\n",
    "3. Data Segmentation\n",
    "4. Analyze the hypothesis"
   ]
  },
  {
   "cell_type": "code",
   "execution_count": 2,
   "metadata": {},
   "outputs": [
    {
     "name": "stderr",
     "output_type": "stream",
     "text": [
      "C:\\Users\\bethelhem.teka\\AppData\\Local\\Temp\\ipykernel_32280\\3708453824.py:14: DtypeWarning: Columns (32,37) have mixed types. Specify dtype option on import or set low_memory=False.\n",
      "  source = pd.read_csv('../data/data.txt', delimiter='|')\n",
      "C:\\Users\\bethelhem.teka\\AppData\\Local\\Temp\\ipykernel_32280\\3708453824.py:17: DtypeWarning: Columns (32,37) have mixed types. Specify dtype option on import or set low_memory=False.\n",
      "  df= pd.read_csv('../data/data2.csv')\n"
     ]
    },
    {
     "data": {
      "text/html": [
       "<div>\n",
       "<style scoped>\n",
       "    .dataframe tbody tr th:only-of-type {\n",
       "        vertical-align: middle;\n",
       "    }\n",
       "\n",
       "    .dataframe tbody tr th {\n",
       "        vertical-align: top;\n",
       "    }\n",
       "\n",
       "    .dataframe thead th {\n",
       "        text-align: right;\n",
       "    }\n",
       "</style>\n",
       "<table border=\"1\" class=\"dataframe\">\n",
       "  <thead>\n",
       "    <tr style=\"text-align: right;\">\n",
       "      <th></th>\n",
       "      <th>UnderwrittenCoverID</th>\n",
       "      <th>PolicyID</th>\n",
       "      <th>TransactionMonth</th>\n",
       "      <th>IsVATRegistered</th>\n",
       "      <th>Citizenship</th>\n",
       "      <th>LegalType</th>\n",
       "      <th>Title</th>\n",
       "      <th>Language</th>\n",
       "      <th>Bank</th>\n",
       "      <th>AccountType</th>\n",
       "      <th>...</th>\n",
       "      <th>ExcessSelected</th>\n",
       "      <th>CoverCategory</th>\n",
       "      <th>CoverType</th>\n",
       "      <th>CoverGroup</th>\n",
       "      <th>Section</th>\n",
       "      <th>Product</th>\n",
       "      <th>StatutoryClass</th>\n",
       "      <th>StatutoryRiskType</th>\n",
       "      <th>TotalPremium</th>\n",
       "      <th>TotalClaims</th>\n",
       "    </tr>\n",
       "  </thead>\n",
       "  <tbody>\n",
       "    <tr>\n",
       "      <th>0</th>\n",
       "      <td>145249</td>\n",
       "      <td>12827</td>\n",
       "      <td>2015-03-01 00:00:00</td>\n",
       "      <td>True</td>\n",
       "      <td></td>\n",
       "      <td>Close Corporation</td>\n",
       "      <td>Mr</td>\n",
       "      <td>English</td>\n",
       "      <td>First National Bank</td>\n",
       "      <td>Current account</td>\n",
       "      <td>...</td>\n",
       "      <td>Mobility - Windscreen</td>\n",
       "      <td>Windscreen</td>\n",
       "      <td>Windscreen</td>\n",
       "      <td>Comprehensive - Taxi</td>\n",
       "      <td>Motor Comprehensive</td>\n",
       "      <td>Mobility Metered Taxis: Monthly</td>\n",
       "      <td>Commercial</td>\n",
       "      <td>IFRS Constant</td>\n",
       "      <td>21.929825</td>\n",
       "      <td>0.0</td>\n",
       "    </tr>\n",
       "    <tr>\n",
       "      <th>1</th>\n",
       "      <td>145249</td>\n",
       "      <td>12827</td>\n",
       "      <td>2015-05-01 00:00:00</td>\n",
       "      <td>True</td>\n",
       "      <td></td>\n",
       "      <td>Close Corporation</td>\n",
       "      <td>Mr</td>\n",
       "      <td>English</td>\n",
       "      <td>First National Bank</td>\n",
       "      <td>Current account</td>\n",
       "      <td>...</td>\n",
       "      <td>Mobility - Windscreen</td>\n",
       "      <td>Windscreen</td>\n",
       "      <td>Windscreen</td>\n",
       "      <td>Comprehensive - Taxi</td>\n",
       "      <td>Motor Comprehensive</td>\n",
       "      <td>Mobility Metered Taxis: Monthly</td>\n",
       "      <td>Commercial</td>\n",
       "      <td>IFRS Constant</td>\n",
       "      <td>21.929825</td>\n",
       "      <td>0.0</td>\n",
       "    </tr>\n",
       "    <tr>\n",
       "      <th>2</th>\n",
       "      <td>145249</td>\n",
       "      <td>12827</td>\n",
       "      <td>2015-07-01 00:00:00</td>\n",
       "      <td>True</td>\n",
       "      <td></td>\n",
       "      <td>Close Corporation</td>\n",
       "      <td>Mr</td>\n",
       "      <td>English</td>\n",
       "      <td>First National Bank</td>\n",
       "      <td>Current account</td>\n",
       "      <td>...</td>\n",
       "      <td>Mobility - Windscreen</td>\n",
       "      <td>Windscreen</td>\n",
       "      <td>Windscreen</td>\n",
       "      <td>Comprehensive - Taxi</td>\n",
       "      <td>Motor Comprehensive</td>\n",
       "      <td>Mobility Metered Taxis: Monthly</td>\n",
       "      <td>Commercial</td>\n",
       "      <td>IFRS Constant</td>\n",
       "      <td>0.000000</td>\n",
       "      <td>0.0</td>\n",
       "    </tr>\n",
       "    <tr>\n",
       "      <th>3</th>\n",
       "      <td>145255</td>\n",
       "      <td>12827</td>\n",
       "      <td>2015-05-01 00:00:00</td>\n",
       "      <td>True</td>\n",
       "      <td></td>\n",
       "      <td>Close Corporation</td>\n",
       "      <td>Mr</td>\n",
       "      <td>English</td>\n",
       "      <td>First National Bank</td>\n",
       "      <td>Current account</td>\n",
       "      <td>...</td>\n",
       "      <td>Mobility - Metered Taxis - R2000</td>\n",
       "      <td>Own damage</td>\n",
       "      <td>Own Damage</td>\n",
       "      <td>Comprehensive - Taxi</td>\n",
       "      <td>Motor Comprehensive</td>\n",
       "      <td>Mobility Metered Taxis: Monthly</td>\n",
       "      <td>Commercial</td>\n",
       "      <td>IFRS Constant</td>\n",
       "      <td>512.848070</td>\n",
       "      <td>0.0</td>\n",
       "    </tr>\n",
       "    <tr>\n",
       "      <th>4</th>\n",
       "      <td>145255</td>\n",
       "      <td>12827</td>\n",
       "      <td>2015-07-01 00:00:00</td>\n",
       "      <td>True</td>\n",
       "      <td></td>\n",
       "      <td>Close Corporation</td>\n",
       "      <td>Mr</td>\n",
       "      <td>English</td>\n",
       "      <td>First National Bank</td>\n",
       "      <td>Current account</td>\n",
       "      <td>...</td>\n",
       "      <td>Mobility - Metered Taxis - R2000</td>\n",
       "      <td>Own damage</td>\n",
       "      <td>Own Damage</td>\n",
       "      <td>Comprehensive - Taxi</td>\n",
       "      <td>Motor Comprehensive</td>\n",
       "      <td>Mobility Metered Taxis: Monthly</td>\n",
       "      <td>Commercial</td>\n",
       "      <td>IFRS Constant</td>\n",
       "      <td>0.000000</td>\n",
       "      <td>0.0</td>\n",
       "    </tr>\n",
       "  </tbody>\n",
       "</table>\n",
       "<p>5 rows × 52 columns</p>\n",
       "</div>"
      ],
      "text/plain": [
       "   UnderwrittenCoverID  PolicyID     TransactionMonth  IsVATRegistered  \\\n",
       "0               145249     12827  2015-03-01 00:00:00             True   \n",
       "1               145249     12827  2015-05-01 00:00:00             True   \n",
       "2               145249     12827  2015-07-01 00:00:00             True   \n",
       "3               145255     12827  2015-05-01 00:00:00             True   \n",
       "4               145255     12827  2015-07-01 00:00:00             True   \n",
       "\n",
       "  Citizenship          LegalType Title Language                 Bank  \\\n",
       "0              Close Corporation    Mr  English  First National Bank   \n",
       "1              Close Corporation    Mr  English  First National Bank   \n",
       "2              Close Corporation    Mr  English  First National Bank   \n",
       "3              Close Corporation    Mr  English  First National Bank   \n",
       "4              Close Corporation    Mr  English  First National Bank   \n",
       "\n",
       "       AccountType  ...                    ExcessSelected CoverCategory  \\\n",
       "0  Current account  ...             Mobility - Windscreen    Windscreen   \n",
       "1  Current account  ...             Mobility - Windscreen    Windscreen   \n",
       "2  Current account  ...             Mobility - Windscreen    Windscreen   \n",
       "3  Current account  ...  Mobility - Metered Taxis - R2000    Own damage   \n",
       "4  Current account  ...  Mobility - Metered Taxis - R2000    Own damage   \n",
       "\n",
       "    CoverType            CoverGroup              Section  \\\n",
       "0  Windscreen  Comprehensive - Taxi  Motor Comprehensive   \n",
       "1  Windscreen  Comprehensive - Taxi  Motor Comprehensive   \n",
       "2  Windscreen  Comprehensive - Taxi  Motor Comprehensive   \n",
       "3  Own Damage  Comprehensive - Taxi  Motor Comprehensive   \n",
       "4  Own Damage  Comprehensive - Taxi  Motor Comprehensive   \n",
       "\n",
       "                           Product StatutoryClass StatutoryRiskType  \\\n",
       "0  Mobility Metered Taxis: Monthly     Commercial     IFRS Constant   \n",
       "1  Mobility Metered Taxis: Monthly     Commercial     IFRS Constant   \n",
       "2  Mobility Metered Taxis: Monthly     Commercial     IFRS Constant   \n",
       "3  Mobility Metered Taxis: Monthly     Commercial     IFRS Constant   \n",
       "4  Mobility Metered Taxis: Monthly     Commercial     IFRS Constant   \n",
       "\n",
       "   TotalPremium TotalClaims  \n",
       "0     21.929825         0.0  \n",
       "1     21.929825         0.0  \n",
       "2      0.000000         0.0  \n",
       "3    512.848070         0.0  \n",
       "4      0.000000         0.0  \n",
       "\n",
       "[5 rows x 52 columns]"
      ]
     },
     "execution_count": 2,
     "metadata": {},
     "output_type": "execute_result"
    }
   ],
   "source": [
    "import sys\n",
    "import os\n",
    "import pandas as pd\n",
    "import numpy as np\n",
    "import matplotlib.pyplot as plt\n",
    "import seaborn as sns\n",
    "\n",
    "# Add the parent directory to the Python path\n",
    "sys.path.insert(0, os.path.abspath(os.path.join(os.getcwd(), '..')))\n",
    "\n",
    "from scripts.data_loader import load_data\n",
    "\n",
    "# Load the text file into a Pandas DataFrame\n",
    "source = pd.read_csv('../data/data.txt', delimiter='|')  \n",
    "\n",
    "source.to_csv('../data/data2.csv', index=False)\n",
    "df= pd.read_csv('../data/data2.csv')\n",
    "df.head()\n"
   ]
  },
  {
   "cell_type": "markdown",
   "metadata": {},
   "source": [
    "## Null Hypotesis to be tested \n",
    "\n",
    "There are no risk differences across provinces, There are no risk differences between zip codes, There are no significant margin (profit) difference between zip codes, and There are not significant risk difference between Women and Men\n"
   ]
  },
  {
   "cell_type": "markdown",
   "metadata": {},
   "source": [
    "## Identify KPIs "
   ]
  },
  {
   "cell_type": "code",
   "execution_count": 3,
   "metadata": {},
   "outputs": [
    {
     "data": {
      "text/plain": [
       "Province\n",
       "Eastern Cape     0.235636\n",
       "Free State       0.106209\n",
       "Gauteng          0.428927\n",
       "KwaZulu-Natal    0.265328\n",
       "Limpopo          0.348712\n",
       "Mpumalanga       0.392698\n",
       "North West       0.285348\n",
       "Northern Cape    0.203831\n",
       "Western Cape     0.341810\n",
       "Name: LossRatio, dtype: float64"
      ]
     },
     "execution_count": 3,
     "metadata": {},
     "output_type": "execute_result"
    }
   ],
   "source": [
    "# Loss ratio by province\n",
    "df['LossRatio']  = df['TotalClaims']/ df[df['TotalPremium'] >0]['TotalPremium'] \n",
    "province_loss_ratio = df.groupby('Province')['LossRatio'].mean()\n",
    "province_loss_ratio"
   ]
  },
  {
   "cell_type": "code",
   "execution_count": 4,
   "metadata": {},
   "outputs": [
    {
     "data": {
      "text/plain": [
       "PostalCode\n",
       "1     0.330662\n",
       "2     0.852758\n",
       "4     0.000000\n",
       "5     0.698901\n",
       "6     0.122927\n",
       "7     0.000000\n",
       "8     0.046875\n",
       "17    0.000000\n",
       "21    0.493564\n",
       "22    0.000000\n",
       "Name: LossRatio, dtype: float64"
      ]
     },
     "execution_count": 4,
     "metadata": {},
     "output_type": "execute_result"
    }
   ],
   "source": [
    "# Loss ratio by postal code\n",
    "postalcode_loss_ratio = df.groupby('PostalCode')['LossRatio'].mean()\n",
    "postalcode_loss_ratio.head(10)"
   ]
  },
  {
   "cell_type": "code",
   "execution_count": 5,
   "metadata": {},
   "outputs": [
    {
     "data": {
      "text/plain": [
       "PostalCode\n",
       "1        95.538484\n",
       "2        92.350502\n",
       "4       113.947737\n",
       "5        67.805129\n",
       "6       101.059937\n",
       "           ...    \n",
       "9781     81.496622\n",
       "9830    131.760895\n",
       "9868    116.042377\n",
       "9869     74.856604\n",
       "9870     80.469292\n",
       "Name: ProfitMargin, Length: 888, dtype: float64"
      ]
     },
     "execution_count": 5,
     "metadata": {},
     "output_type": "execute_result"
    }
   ],
   "source": [
    "# Profit margin by postal code\n",
    "df['ProfitMargin']  = df['TotalPremium'] - df['TotalClaims']/ df[df['TotalPremium'] >0]['TotalPremium']\n",
    "postal_code_profit_margin = df.groupby('PostalCode')['ProfitMargin'].mean()\n",
    "postal_code_profit_margin"
   ]
  },
  {
   "cell_type": "code",
   "execution_count": 6,
   "metadata": {},
   "outputs": [
    {
     "data": {
      "text/plain": [
       "Gender\n",
       "Female           0.491979\n",
       "Male             0.353258\n",
       "Not specified    0.347932\n",
       "Name: LossRatio, dtype: float64"
      ]
     },
     "execution_count": 6,
     "metadata": {},
     "output_type": "execute_result"
    }
   ],
   "source": [
    "# Loss ratio by postal code by gender\n",
    "postalcode_loss_ratio = df.groupby('Gender')['LossRatio'].mean()\n",
    "postalcode_loss_ratio.head(10)"
   ]
  },
  {
   "cell_type": "markdown",
   "metadata": {},
   "source": [
    "## Data Segementations"
   ]
  },
  {
   "cell_type": "code",
   "execution_count": 7,
   "metadata": {},
   "outputs": [],
   "source": [
    "feature_to_test = 'CoverType'\n",
    "\n",
    "\n",
    "# Create two groups\n",
    "\n",
    "group_a = df[df[feature_to_test].isin(['Windscreen', 'Own Damage' ,'Third Party', 'Passenger Liability', 'Signage and Vehicle Wraps', 'Keys and Alarms', \n",
    "'Cleaning and Removal of Accident Debris' ,'Emergency Charges', 'Credit Protection' ,'Roadside Assistance', 'Accidental Death' ])]\n",
    "group_b = df[df[feature_to_test].isin(['Basic Excess Waiver' ,'Income Protector' ,'Deposit Cover',  'Standalone passenger liability' ,'Baggage/Luggage',\n",
    " 'Asset Value Preserver', 'Cash Takings', 'Third Party Only' 'Trailer',  'Fire and Theft' ,'Factory Fitted Sound aner Electronic Equipment'])]\n",
    "\n",
    "group_a = group_a[group_a['TotalPremium']>0]\n",
    "group_b = group_b[group_b['TotalPremium']>0]\n"
   ]
  },
  {
   "cell_type": "code",
   "execution_count": 8,
   "metadata": {},
   "outputs": [
    {
     "name": "stdout",
     "output_type": "stream",
     "text": [
      "SumInsured: T-statistic = 113.20, P-value = 0.000\n",
      "  -> Significant difference (adjust groups for SumInsured)\n",
      "CalculatedPremiumPerTerm: T-statistic = 25.09, P-value = 0.000\n",
      "  -> Significant difference (adjust groups for CalculatedPremiumPerTerm)\n",
      "CustomValueEstimate: T-statistic = -0.60, P-value = 0.549\n",
      "  -> No significant difference (groups are equivalent for CustomValueEstimate)\n"
     ]
    }
   ],
   "source": [
    "from scipy.stats import ttest_ind, chi2_contingency\n",
    "numerical_columns = ['SumInsured', 'CalculatedPremiumPerTerm', 'CustomValueEstimate']\n",
    "\n",
    "for col in numerical_columns:\n",
    "    t_stat, p_val = ttest_ind(group_a[col].dropna(), group_b[col].dropna())\n",
    "    print(f\"{col}: T-statistic = {t_stat:.2f}, P-value = {p_val:.3f}\")\n",
    "    if p_val > 0.05:\n",
    "        print(f\"  -> No significant difference (groups are equivalent for {col})\")\n",
    "    else:\n",
    "        print(f\"  -> Significant difference (adjust groups for {col})\")"
   ]
  },
  {
   "cell_type": "code",
   "execution_count": 9,
   "metadata": {},
   "outputs": [
    {
     "name": "stdout",
     "output_type": "stream",
     "text": [
      "Gender: Chi-square = 8818.14, P-value = 0.000\n",
      "  -> Significant difference (adjust groups for Gender)\n",
      "VehicleType: Chi-square = 3336.59, P-value = 0.000\n",
      "  -> Significant difference (adjust groups for VehicleType)\n",
      "MaritalStatus: Chi-square = 11001.90, P-value = 0.000\n",
      "  -> Significant difference (adjust groups for MaritalStatus)\n"
     ]
    }
   ],
   "source": [
    "categorical_columns = ['Gender', 'VehicleType', 'MaritalStatus']\n",
    "\n",
    "for col in categorical_columns:\n",
    "    contingency_table = pd.crosstab(df[col], df[feature_to_test])\n",
    "    chi2, p_val, _, _ = chi2_contingency(contingency_table)\n",
    "    print(f\"{col}: Chi-square = {chi2:.2f}, P-value = {p_val:.3f}\")\n",
    "    if p_val > 0.05:\n",
    "        print(f\"  -> No significant difference (groups are equivalent for {col})\")\n",
    "    else:\n",
    "        print(f\"  -> Significant difference (adjust groups for {col})\")"
   ]
  },
  {
   "cell_type": "code",
   "execution_count": 10,
   "metadata": {},
   "outputs": [],
   "source": [
    "# Add a column to indicate the group\n",
    "group_a['Group'] = 'A'  # Control group\n",
    "group_b['Group'] = 'B'  # Test group\n",
    "\n",
    "# Combine into one dataset for further analysis\n",
    "segmented_data = pd.concat([group_a, group_b], ignore_index=True)\n",
    "\n",
    "# Save to a new file \n",
    "segmented_data.to_csv('segmented_data.csv', index=False)\n"
   ]
  },
  {
   "cell_type": "code",
   "execution_count": 11,
   "metadata": {},
   "outputs": [
    {
     "name": "stdout",
     "output_type": "stream",
     "text": [
      "Group A Claims Frequency: 100.00%\n",
      "Group B Claims Frequency: 100.00%\n",
      "Group A Loss Ratio: 106.45%\n",
      "Group B Loss Ratio: 41.35%\n"
     ]
    }
   ],
   "source": [
    "# Claims Frequency\n",
    "group_a_claims_frequency = group_a['TotalClaims'].notnull().sum() / len(group_a)\n",
    "group_b_claims_frequency = group_b['TotalClaims'].notnull().sum() / len(group_b)\n",
    "\n",
    "print(f\"Group A Claims Frequency: {group_a_claims_frequency:.2%}\")\n",
    "print(f\"Group B Claims Frequency: {group_b_claims_frequency:.2%}\")\n",
    "\n",
    "# Loss Ratio\n",
    "group_a_loss_ratio = group_a['TotalClaims'].sum() / group_a[group_a['TotalPremium'] >0]['TotalPremium'].sum()\n",
    "group_b_loss_ratio = group_b['TotalClaims'].sum() / group_b[group_b['TotalPremium'] >0]['TotalPremium'].sum()\n",
    "\n",
    "print(f\"Group A Loss Ratio: {group_a_loss_ratio:.2%}\")\n",
    "print(f\"Group B Loss Ratio: {group_b_loss_ratio:.2%}\")"
   ]
  },
  {
   "cell_type": "code",
   "execution_count": 12,
   "metadata": {},
   "outputs": [
    {
     "name": "stdout",
     "output_type": "stream",
     "text": [
      "H_1 Hypothesis test result for provinces: F_onewayResult(statistic=np.float64(5.849413762407606), pvalue=np.float64(1.6782057588675903e-07))\n",
      "H_2 Hypothesis test result for zip codes: F_onewayResult(statistic=np.float64(0.9419762214391849), pvalue=np.float64(0.8906511279164051))\n",
      "H_3 Hypothesis test result for TotalPremium across zip codes: F_onewayResult(statistic=np.float64(10.81111575835253), pvalue=np.float64(0.0))\n",
      "H_4 T-test result for gender: TtestResult(statistic=np.float64(0.24803623812388725), pvalue=np.float64(0.8041073961270343), df=np.float64(49570.0))\n"
     ]
    }
   ],
   "source": [
    "from scipy import stats\n",
    "# Hypothesis Testing for Risk Differences Across Provinces (H_1) using TotalClaims\n",
    "anova_provinces = stats.f_oneway(*(df[df['Province'] == province]['TotalClaims'] for province in df['Province'].unique())) \n",
    "print(\"H_1 Hypothesis test result for provinces:\", anova_provinces)\n",
    "\n",
    "# Hypothesis Testing for Risk Differences Between Zip Codes (H_2) using TotalClaims\n",
    "anova_zipcodes = stats.f_oneway(*(df[df['PostalCode'] == zipcode]['TotalClaims'] for zipcode in df['PostalCode'].unique()))\n",
    "print(\"H_2 Hypothesis test result for zip codes:\", anova_zipcodes)\n",
    "\n",
    "# Hypothesis Testing for Margin Profit Differences Between Zip Codes (H_3) using TotalPremium \n",
    "anova_premium = stats.f_oneway(*(df[df['PostalCode'] == zipcode]['TotalPremium'] for zipcode in df['PostalCode'].unique())) \n",
    "print(\"H_3 Hypothesis test result for TotalPremium across zip codes:\", anova_premium)\n",
    "\n",
    "# Hypothesis Testing for Risk Differences Between Women and Men (H_4)\n",
    "risk_women = df[df['Gender'] == 'Female']['TotalClaims']\n",
    "risk_men = df[df['Gender'] == 'Male']['TotalClaims']\n",
    "t_test_gender = stats.ttest_ind(risk_women, risk_men)\n",
    "print(\"H_4 T-test result for gender:\", t_test_gender)"
   ]
  }
 ],
 "metadata": {
  "kernelspec": {
   "display_name": ".venv",
   "language": "python",
   "name": "python3"
  },
  "language_info": {
   "codemirror_mode": {
    "name": "ipython",
    "version": 3
   },
   "file_extension": ".py",
   "mimetype": "text/x-python",
   "name": "python",
   "nbconvert_exporter": "python",
   "pygments_lexer": "ipython3",
   "version": "3.11.2"
  }
 },
 "nbformat": 4,
 "nbformat_minor": 2
}
