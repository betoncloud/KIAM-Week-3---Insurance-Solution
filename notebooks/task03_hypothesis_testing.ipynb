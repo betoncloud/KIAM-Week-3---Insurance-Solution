{
 "cells": [
  {
   "cell_type": "markdown",
   "metadata": {},
   "source": [
    "# AlphaCare Insurance Solutions (ACIS) \n"
   ]
  },
  {
   "cell_type": "markdown",
   "metadata": {},
   "source": [
    "AlphaCare Insurance Solutions (ACIS) is committed to developing cutting-edge risk and predictive analytics in the area of car insurance\n",
    "planning and marketing in South Africa.This is a part of the final report on hypothesis testing,"
   ]
  },
  {
   "cell_type": "code",
   "execution_count": null,
   "metadata": {
    "vscode": {
     "languageId": "plaintext"
    }
   },
   "outputs": [],
   "source": [
    "import sys\n",
    "import os\n",
    "import pandas as pd\n",
    "import numpy as np\n",
    "import matplotlib.pyplot as plt\n",
    "import seaborn as sns\n",
    "\n",
    "# Add the parent directory to the Python path\n",
    "sys.path.insert(0, os.path.abspath(os.path.join(os.getcwd(), '..')))\n",
    "\n",
    "from scripts.data_loader import load_data\n",
    "\n",
    "# Load the text file into a Pandas DataFrame\n",
    "source = pd.read_csv('../data/data.txt', delimiter='|')  \n",
    "\n",
    "source.to_csv('../data/data2.csv', index=False)\n",
    "df= pd.read_csv('../data/data2.csv')\n",
    "df.head()\n"
   ]
  },
  {
   "cell_type": "markdown",
   "metadata": {},
   "source": [
    "## Null Hypotesis to be tested \n",
    "\n",
    "There are no risk differences across provinces, There are no risk differences between zip codes, There are no significant margin (profit) difference between zip codes, and There are not significant risk difference between Women and Men\n"
   ]
  },
  {
   "cell_type": "markdown",
   "metadata": {},
   "source": [
    "## Identify KPIs "
   ]
  },
  {
   "cell_type": "code",
   "execution_count": null,
   "metadata": {
    "vscode": {
     "languageId": "plaintext"
    }
   },
   "outputs": [],
   "source": [
    "# Loss ratio by province\n",
    "df['LossRatio']  = df['TotalClaims']/ df[df['TotalPremium'] >0]['TotalPremium'] \n",
    "province_loss_ratio = df.groupby('Province')['LossRatio'].mean()\n",
    "province_loss_ratio"
   ]
  },
  {
   "cell_type": "code",
   "execution_count": null,
   "metadata": {
    "vscode": {
     "languageId": "plaintext"
    }
   },
   "outputs": [],
   "source": [
    "# Loss ratio by postal code\n",
    "postalcode_loss_ratio = df.groupby('PostalCode')['LossRatio'].mean()\n",
    "postalcode_loss_ratio.head(10)"
   ]
  },
  {
   "cell_type": "code",
   "execution_count": null,
   "metadata": {
    "vscode": {
     "languageId": "plaintext"
    }
   },
   "outputs": [],
   "source": [
    "# Profit margin by postal code\n",
    "df['ProfitMargin']  = df['TotalPremium'] - df['TotalClaims']/ df[df['TotalPremium'] >0]['TotalPremium']\n",
    "postal_code_profit_margin = df.groupby('PostalCode')['ProfitMargin'].mean()\n",
    "postal_code_profit_margin"
   ]
  },
  {
   "cell_type": "code",
   "execution_count": null,
   "metadata": {
    "vscode": {
     "languageId": "plaintext"
    }
   },
   "outputs": [],
   "source": [
    "# Loss ratio by postal code by gender\n",
    "postalcode_loss_ratio = df.groupby('Gender')['LossRatio'].mean()\n",
    "postalcode_loss_ratio.head(10)"
   ]
  },
  {
   "cell_type": "markdown",
   "metadata": {},
   "source": [
    "## Data Segementations"
   ]
  },
  {
   "cell_type": "code",
   "execution_count": null,
   "metadata": {
    "vscode": {
     "languageId": "plaintext"
    }
   },
   "outputs": [],
   "source": [
    "feature_to_test = 'CoverType'\n",
    "\n",
    "\n",
    "# Create two groups\n",
    "\n",
    "group_a = df[df[feature_to_test].isin(['Windscreen', 'Own Damage' ,'Third Party', 'Passenger Liability', 'Signage and Vehicle Wraps', 'Keys and Alarms', \n",
    "'Cleaning and Removal of Accident Debris' ,'Emergency Charges', 'Credit Protection' ,'Roadside Assistance', 'Accidental Death' ])]\n",
    "group_b = df[df[feature_to_test].isin(['Basic Excess Waiver' ,'Income Protector' ,'Deposit Cover',  'Standalone passenger liability' ,'Baggage/Luggage',\n",
    " 'Asset Value Preserver', 'Cash Takings', 'Third Party Only' 'Trailer',  'Fire and Theft' ,'Factory Fitted Sound aner Electronic Equipment'])]\n",
    "\n",
    "group_a = group_a[group_a['TotalPremium']>0]\n",
    "group_b = group_b[group_b['TotalPremium']>0]\n"
   ]
  },
  {
   "cell_type": "code",
   "execution_count": null,
   "metadata": {
    "vscode": {
     "languageId": "plaintext"
    }
   },
   "outputs": [],
   "source": [
    "from scipy.stats import ttest_ind, chi2_contingency\n",
    "numerical_columns = ['SumInsured', 'CalculatedPremiumPerTerm', 'CustomValueEstimate']\n",
    "\n",
    "for col in numerical_columns:\n",
    "    t_stat, p_val = ttest_ind(group_a[col].dropna(), group_b[col].dropna())\n",
    "    print(f\"{col}: T-statistic = {t_stat:.2f}, P-value = {p_val:.3f}\")\n",
    "    if p_val > 0.05:\n",
    "        print(f\"  -> No significant difference (groups are equivalent for {col})\")\n",
    "    else:\n",
    "        print(f\"  -> Significant difference (adjust groups for {col})\")"
   ]
  },
  {
   "cell_type": "code",
   "execution_count": null,
   "metadata": {
    "vscode": {
     "languageId": "plaintext"
    }
   },
   "outputs": [],
   "source": [
    "categorical_columns = ['Gender', 'VehicleType', 'MaritalStatus']\n",
    "\n",
    "for col in categorical_columns:\n",
    "    contingency_table = pd.crosstab(df[col], df[feature_to_test])\n",
    "    chi2, p_val, _, _ = chi2_contingency(contingency_table)\n",
    "    print(f\"{col}: Chi-square = {chi2:.2f}, P-value = {p_val:.3f}\")\n",
    "    if p_val > 0.05:\n",
    "        print(f\"  -> No significant difference (groups are equivalent for {col})\")\n",
    "    else:\n",
    "        print(f\"  -> Significant difference (adjust groups for {col})\")"
   ]
  },
  {
   "cell_type": "code",
   "execution_count": null,
   "metadata": {
    "vscode": {
     "languageId": "plaintext"
    }
   },
   "outputs": [],
   "source": [
    "# Add a column to indicate the group\n",
    "group_a['Group'] = 'A'  # Control group\n",
    "group_b['Group'] = 'B'  # Test group\n",
    "\n",
    "# Combine into one dataset for further analysis\n",
    "segmented_data = pd.concat([group_a, group_b], ignore_index=True)\n",
    "\n",
    "# Save to a new file \n",
    "segmented_data.to_csv('segmented_data.csv', index=False)\n"
   ]
  },
  {
   "cell_type": "code",
   "execution_count": null,
   "metadata": {
    "vscode": {
     "languageId": "plaintext"
    }
   },
   "outputs": [],
   "source": [
    "# Claims Frequency\n",
    "group_a_claims_frequency = group_a['TotalClaims'].notnull().sum() / len(group_a)\n",
    "group_b_claims_frequency = group_b['TotalClaims'].notnull().sum() / len(group_b)\n",
    "\n",
    "print(f\"Group A Claims Frequency: {group_a_claims_frequency:.2%}\")\n",
    "print(f\"Group B Claims Frequency: {group_b_claims_frequency:.2%}\")\n",
    "\n",
    "# Loss Ratio\n",
    "group_a_loss_ratio = group_a['TotalClaims'].sum() / group_a[group_a['TotalPremium'] >0]['TotalPremium'].sum()\n",
    "group_b_loss_ratio = group_b['TotalClaims'].sum() / group_b[group_b['TotalPremium'] >0]['TotalPremium'].sum()\n",
    "\n",
    "print(f\"Group A Loss Ratio: {group_a_loss_ratio:.2%}\")\n",
    "print(f\"Group B Loss Ratio: {group_b_loss_ratio:.2%}\")"
   ]
  }
 ],
 "metadata": {
  "language_info": {
   "name": "python"
  }
 },
 "nbformat": 4,
 "nbformat_minor": 2
}
